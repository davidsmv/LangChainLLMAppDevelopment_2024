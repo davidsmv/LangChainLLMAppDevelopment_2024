{
 "cells": [
  {
   "cell_type": "code",
   "execution_count": 15,
   "metadata": {},
   "outputs": [
    {
     "name": "stdout",
     "output_type": "stream",
     "text": [
      "https://co.linkedin.com/in/juan-sebastian-castilla-rodriguez-2107a613a\n"
     ]
    }
   ],
   "source": [
    "from googlesearch import search\n",
    "\n",
    "query = \"Juan Castilla Tul\"\n",
    "\n",
    "# Directly get the first result\n",
    "first_result = next(search(query, num_results=1), None)\n",
    "\n",
    "print(first_result)"
   ]
  },
  {
   "cell_type": "code",
   "execution_count": 9,
   "metadata": {},
   "outputs": [
    {
     "name": "stdout",
     "output_type": "stream",
     "text": [
      "Profile Summary:\n",
      "Name: Cristian Mauricio Villamarin Villamil\n",
      "Description: Data Scientist | Startup | Machine Learning | Operations Research\n",
      "About: M.Sc. in Industrial Engineering, performance and goal oriented professional with 10+ years of experience in Data Science creating end to end solutions in diverse fields such as finance, food, retail, pricing and revenue management. Passionate, committed, self-motivated, versatile, team worker and goal oriented professional, driven by pushing boundaries for higher standards.\n",
      "\n",
      "IT SKILLS:\n",
      "• Python, R, SQL, Git.\n",
      "• PostgreSQL, Snowflake, MySQL.\n",
      "• Pandas, Numpy, FastAPI, Selenium, Jupyter.\n",
      "• Scikit-Learn, Tensorflow.\n",
      "• AWS (S3, RDS, Lambda, Textract).\n",
      "Company: Tul\n",
      "\n",
      "Profile Summary:\n",
      "Name: Disha Jindgar\n",
      "Description: SDE@Walmart | 105K | Educator | Content creator | SIH 2K19 winner | Research Paper publisher | DSA | System Design | Ex - SDE Nokia | Mentor at Learnbay | Times New York Featured | Public Speaker |Tech| Personal Finance\n",
      "About: A software engineer \n",
      "Company: Company not found\n",
      "\n",
      "Profile Summary:\n",
      "Name: Ishita Rai\n",
      "Description: Full-stack Developer@Inventrik | Technical Content Writer@GeeksForGeeks | Volunteering ML Engineer@Omdena |Computer Science(Hons) | KMV'23\n",
      "About: I am a Computer Science graduate from Delhi University. With a strong background in computer science and a passion for technology, I am currently working as a full-stack developer, while also exploring the exciting field of data science. I have honed my skills in software development, encompassing both front-end and back-end technologies. Proficient in HTML/CSS, JavaScript, Python, Node.js, Spring, Springboot, and various databases including MySQL and MongoDB, I have successfully developed and maintained web applications, focusing on delivering seamless user experiences and implementing new features.\n",
      "\n",
      "Alongside my full-stack expertise, I have a deep interest in data science. I am fascinated by the power of data to drive insights and innovation. With data analysis, machine learning algorithms, and statistical modeling knowledge, I have explored Python libraries like NumPy, Pandas, Scikit-learn, and TensorFlow, enabling me to extract valuable insights and build predictive models. Throughout my academic journey, I have actively sought out practical experiences to complement my theoretical knowledge. As a problem solver with strong analytical and logical thinking skills, I thrive in collaborative environments. I am an effective communicator and enjoy working with cross-functional teams to deliver impactful results.\n",
      "\n",
      "I am eager to take on new challenges and expand my skill set further. If you have new exciting opportunities, feel free to reach out on ishita28rai@gmail.com\n",
      "\n",
      "When not coding, you'll find me either scribbling down something or creating some art piece.\n",
      "Company: Inventrik Pte Ltd\n",
      "\n"
     ]
    },
    {
     "ename": "",
     "evalue": "",
     "output_type": "error",
     "traceback": [
      "\u001b[1;31mThe Kernel crashed while executing code in the current cell or a previous cell. \n",
      "\u001b[1;31mPlease review the code in the cell(s) to identify a possible cause of the failure. \n",
      "\u001b[1;31mClick <a href='https://aka.ms/vscodeJupyterKernelCrash'>here</a> for more info. \n",
      "\u001b[1;31mView Jupyter <a href='command:jupyter.viewOutput'>log</a> for further details."
     ]
    }
   ],
   "source": [
    "from time import sleep \n",
    "from selenium import webdriver \n",
    "from selenium.webdriver.chrome.service import Service \n",
    "from selenium.webdriver.common.by import By \n",
    "from webdriver_manager.chrome import ChromeDriverManager \n",
    "\n",
    "options = webdriver.ChromeOptions() \n",
    "options.add_argument(\"headless\") \n",
    "\n",
    "exe_path = ChromeDriverManager().install() \n",
    "service = Service(exe_path) \n",
    "driver = webdriver.Chrome(service=service, options=options) \n",
    "\n",
    "driver.get(\"https://www.linkedin.com/login\") \n",
    "sleep(0.1) \n",
    "\n",
    "\n",
    "\n",
    "driver.find_element(By.XPATH, '//*[@id=\"username\"]').send_keys(linkedin_username) \n",
    "driver.find_element(By.XPATH, '//*[@id=\"password\"]').send_keys(linkedin_password) \n",
    "sleep(0.1) \n",
    "driver.find_element(By.XPATH, '//*[@id=\"organic-div\"]/form/div[3]/button').click() \n",
    "\n",
    "profiles = ['https://www.linkedin.com/in/cmvillav/', \n",
    "\t\t\t'https://www.linkedin.com/in/dishajindgar/', \n",
    "\t\t\t'https://www.linkedin.com/in/ishita-rai-28jgj/'] \n",
    "\n",
    "for i in profiles:\n",
    "\tdriver.get(i) \n",
    "\tsleep(2)\n",
    "\telements = [\n",
    "        {\"name\": \"name\", \"xpath\": \"//h1[@class='text-heading-xlarge inline t-24 v-align-middle break-words']\", \"default\": \"Name not found\"},\n",
    "        {\"name\": \"description\", \"xpath\": \"//div[@class='text-body-medium break-words']\", \"default\": \"Description not found\"},\n",
    "        {\"name\": \"about\", \"xpath\": \"//div[@class='display-flex ph5 pv3']/div/div/div/span\", \"default\": \"About not found\"},\n",
    "        {\"name\": \"company\", \"xpath\": \"//*[@id='profile-content']/div/div[2]/div/div/main/section[1]/div[2]/div[2]/ul/li/button/span/div\", \"default\": \"Company not found\"}\n",
    "    ]\n",
    "\tprofile_info = {}\n",
    "\n",
    "\tfor element in elements:\n",
    "\t\ttry:\n",
    "\t\t\telement_text = driver.find_element(By.XPATH, element[\"xpath\"]).text\n",
    "\t\t\tprofile_info[element[\"name\"]] = element_text\n",
    "\t\texcept:\n",
    "\t\t\tprofile_info[element[\"name\"]] = element[\"default\"]\n",
    "\n",
    "    # Compile the message\n",
    "\tmessage = (\n",
    "\t\tf\"Profile Summary:\\n\"\n",
    "\t\tf\"Name: {profile_info['name']}\\n\"\n",
    "\t\tf\"Description: {profile_info['description']}\\n\"\n",
    "\t\tf\"About: {profile_info['about']}\\n\"\n",
    "\t\tf\"Company: {profile_info['company']}\\n\"\n",
    "\t)\n",
    "\n",
    "\tprint(message)\n",
    "driver.close() \n"
   ]
  },
  {
   "cell_type": "code",
   "execution_count": null,
   "metadata": {},
   "outputs": [],
   "source": [
    "import tweepy\n",
    "\n",
    "# Replace 'consumer_key', 'consumer_secret', 'access_token', 'access_token_secret'\n",
    "# with your actual Twitter API credentials\n",
    "consumer_key = 'YOUR_API_KEY'\n",
    "consumer_secret = 'YOUR_API_KEY_SECRET'\n",
    "access_token = 'YOUR_ACCESS_TOKEN'\n",
    "access_token_secret = 'YOUR_ACCESS_TOKEN_SECRET'\n",
    "\n",
    "# Authenticate to Twitter\n",
    "auth = tweepy.OAuthHandler(consumer_key, consumer_secret)\n",
    "auth.set_access_token(access_token, access_token_secret)\n",
    "\n",
    "# Create API object\n",
    "api = tweepy.API(auth)\n",
    "\n",
    "# Replace 'twitter_handle' with the Twitter handle of the user\n",
    "twitter_handle = 'username'\n",
    "\n",
    "# Fetch the latest 5 tweets from the user\n",
    "tweets = api.user_timeline(screen_name=twitter_handle, count=5)\n",
    "\n",
    "# Print each tweet text\n",
    "for tweet in tweets:\n",
    "    print(tweet.text)"
   ]
  }
 ],
 "metadata": {
  "kernelspec": {
   "display_name": ".venv",
   "language": "python",
   "name": "python3"
  },
  "language_info": {
   "codemirror_mode": {
    "name": "ipython",
    "version": 3
   },
   "file_extension": ".py",
   "mimetype": "text/x-python",
   "name": "python",
   "nbconvert_exporter": "python",
   "pygments_lexer": "ipython3",
   "version": "3.11.9"
  }
 },
 "nbformat": 4,
 "nbformat_minor": 2
}
